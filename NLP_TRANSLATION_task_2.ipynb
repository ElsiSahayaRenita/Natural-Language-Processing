{
  "nbformat": 4,
  "nbformat_minor": 0,
  "metadata": {
    "colab": {
      "name": "NLP TRANSLATION task_2.ipynb",
      "provenance": []
    },
    "kernelspec": {
      "name": "python3",
      "display_name": "Python 3"
    },
    "language_info": {
      "name": "python"
    },
    "accelerator": "GPU"
  },
  "cells": [
    {
      "cell_type": "markdown",
      "source": [
        "# **Task-2**\n",
        "## **Create a program that needs to automatically correct that spelling from the word or a given sentence. (Language : English)**\n"
      ],
      "metadata": {
        "id": "IQl2F6Osqq6N"
      }
    },
    {
      "cell_type": "markdown",
      "source": [
        "# **Spelling Correction For Words**"
      ],
      "metadata": {
        "id": "ARk1R6EsTm14"
      }
    },
    {
      "cell_type": "code",
      "execution_count": 1,
      "metadata": {
        "colab": {
          "base_uri": "https://localhost:8080/"
        },
        "id": "rtijHI74Qhxj",
        "outputId": "b44b2b4d-49c1-4829-cfa6-4c98baba29b8"
      },
      "outputs": [
        {
          "output_type": "stream",
          "name": "stdout",
          "text": [
            "Looking in indexes: https://pypi.org/simple, https://us-python.pkg.dev/colab-wheels/public/simple/\n",
            "Collecting pyspellchecker\n",
            "  Downloading pyspellchecker-0.6.3-py3-none-any.whl (2.7 MB)\n",
            "\u001b[K     |████████████████████████████████| 2.7 MB 33.1 MB/s \n",
            "\u001b[?25hInstalling collected packages: pyspellchecker\n",
            "Successfully installed pyspellchecker-0.6.3\n"
          ]
        }
      ],
      "source": [
        "!pip install pyspellchecker"
      ]
    },
    {
      "cell_type": "code",
      "source": [
        "#Import Library\n",
        "from spellchecker import SpellChecker\n",
        "Check  = SpellChecker()"
      ],
      "metadata": {
        "id": "wgn2aVnJSCn4"
      },
      "execution_count": 4,
      "outputs": []
    },
    {
      "cell_type": "code",
      "source": [
        "word_bags = Check.unknown(['Apperaence', 'common', 'Walet', 'Sarprise', 'dilight', 'Ambitieous', 'acxquit', 'haras', 'hierchy', 'telivison', 'inocculate', 'karnel', 'Expensas', 'mediveal', 'questioneaire',\n",
        "                                'ryme', 'Witstand', 'Harse', 'colour', 'cumpter', 'fhoto', 'calandr', 'libary', 'sergeant', 'Seashre', 'influece', 'afect', 'speling', 'adrinalin',\n",
        "                                'manuscipts', 'chrch', 'tamperature', 'Curtaines', 'hauly', 'draught', 'anemal', 'rote', 'toture', 'carer', 'Biecycle', 'mispelled',\n",
        "                                'inland', 'drss', 'colum', 'plug', 'pilar', 'yalk', 'Wellcome', 'aniversary', 'slep', 'Telecaler', 'oxigen', 'thresshold', 'tyrany', 'rellevant',\n",
        "                           'Shp', 'dat', 'crocodle', 'pecock', 'clockroom', 'corect'])\n",
        "\n",
        "print(\"Corrected Words:\")\n",
        "for word in word_bags:\n",
        "    print(Check.correction(word))"
      ],
      "metadata": {
        "colab": {
          "base_uri": "https://localhost:8080/"
        },
        "id": "uPzPUyndTir4",
        "outputId": "97aba2dc-eb07-4702-d6ea-ab255e50b9e1"
      },
      "execution_count": 11,
      "outputs": [
        {
          "output_type": "stream",
          "name": "stdout",
          "text": [
            "Corrected Words:\n",
            "withstand\n",
            "misspelled\n",
            "threshold\n",
            "appearence\n",
            "ambitious\n",
            "inoculate\n",
            "hierarchy\n",
            "calendar\n",
            "she\n",
            "delight\n",
            "wallet\n",
            "questionnaire\n",
            "computer\n",
            "affect\n",
            "tyranny\n",
            "adrenalin\n",
            "acquit\n",
            "harass\n",
            "influence\n",
            "surprise\n",
            "correct\n",
            "oxygen\n",
            "expenses\n",
            "kernel\n",
            "horse\n",
            "manuscripts\n",
            "photo\n",
            "medieval\n",
            "spelling\n",
            "animal\n",
            "sleep\n",
            "telecaler\n",
            "curtains\n",
            "library\n",
            "temperature\n",
            "bicycle\n",
            "church\n",
            "dress\n",
            "television\n",
            "peacock\n",
            "seashore\n",
            "relevant\n",
            "torture\n",
            "crocodile\n",
            "haul\n",
            "talk\n",
            "cloakroom\n",
            "rhyme\n"
          ]
        }
      ]
    },
    {
      "cell_type": "markdown",
      "source": [
        "### **Packages**"
      ],
      "metadata": {
        "id": "7UU7IDDDcXMa"
      }
    },
    {
      "cell_type": "code",
      "source": [
        "!sudo apt-get install swig"
      ],
      "metadata": {
        "colab": {
          "base_uri": "https://localhost:8080/"
        },
        "id": "9Yhkb7aaa3nE",
        "outputId": "0e2c8b60-2ff0-4809-9972-da2b0494261f"
      },
      "execution_count": 12,
      "outputs": [
        {
          "output_type": "stream",
          "name": "stdout",
          "text": [
            "Reading package lists... Done\n",
            "Building dependency tree       \n",
            "Reading state information... Done\n",
            "The following package was automatically installed and is no longer required:\n",
            "  libnvidia-common-460\n",
            "Use 'sudo apt autoremove' to remove it.\n",
            "The following additional packages will be installed:\n",
            "  swig3.0\n",
            "Suggested packages:\n",
            "  swig-doc swig-examples swig3.0-examples swig3.0-doc\n",
            "The following NEW packages will be installed:\n",
            "  swig swig3.0\n",
            "0 upgraded, 2 newly installed, 0 to remove and 45 not upgraded.\n",
            "Need to get 1,100 kB of archives.\n",
            "After this operation, 5,822 kB of additional disk space will be used.\n",
            "Get:1 http://archive.ubuntu.com/ubuntu bionic/universe amd64 swig3.0 amd64 3.0.12-1 [1,094 kB]\n",
            "Get:2 http://archive.ubuntu.com/ubuntu bionic/universe amd64 swig amd64 3.0.12-1 [6,460 B]\n",
            "Fetched 1,100 kB in 0s (8,669 kB/s)\n",
            "debconf: unable to initialize frontend: Dialog\n",
            "debconf: (No usable dialog-like program is installed, so the dialog based frontend cannot be used. at /usr/share/perl5/Debconf/FrontEnd/Dialog.pm line 76, <> line 2.)\n",
            "debconf: falling back to frontend: Readline\n",
            "debconf: unable to initialize frontend: Readline\n",
            "debconf: (This frontend requires a controlling tty.)\n",
            "debconf: falling back to frontend: Teletype\n",
            "dpkg-preconfigure: unable to re-open stdin: \n",
            "Selecting previously unselected package swig3.0.\n",
            "(Reading database ... 155632 files and directories currently installed.)\n",
            "Preparing to unpack .../swig3.0_3.0.12-1_amd64.deb ...\n",
            "Unpacking swig3.0 (3.0.12-1) ...\n",
            "Selecting previously unselected package swig.\n",
            "Preparing to unpack .../swig_3.0.12-1_amd64.deb ...\n",
            "Unpacking swig (3.0.12-1) ...\n",
            "Setting up swig3.0 (3.0.12-1) ...\n",
            "Setting up swig (3.0.12-1) ...\n",
            "Processing triggers for man-db (2.8.3-2ubuntu0.1) ...\n"
          ]
        }
      ]
    },
    {
      "cell_type": "markdown",
      "source": [
        "# **Spelling Correction For Sentences Using Jamspell**"
      ],
      "metadata": {
        "id": "CrnTXC_acpKE"
      }
    },
    {
      "cell_type": "code",
      "source": [
        "!sudo pip install jamspell"
      ],
      "metadata": {
        "colab": {
          "base_uri": "https://localhost:8080/"
        },
        "id": "5SW4rlW3cCty",
        "outputId": "fb5d246d-3367-4ab4-f9ef-501817a51f42"
      },
      "execution_count": 13,
      "outputs": [
        {
          "output_type": "stream",
          "name": "stdout",
          "text": [
            "Looking in indexes: https://pypi.org/simple, https://us-python.pkg.dev/colab-wheels/public/simple/\n",
            "Collecting jamspell\n",
            "  Downloading jamspell-0.0.12.tar.gz (174 kB)\n",
            "\u001b[?25l\r\u001b[K     |█▉                              | 10 kB 30.8 MB/s eta 0:00:01\r\u001b[K     |███▊                            | 20 kB 33.9 MB/s eta 0:00:01\r\u001b[K     |█████▋                          | 30 kB 33.6 MB/s eta 0:00:01\r\u001b[K     |███████▌                        | 40 kB 23.1 MB/s eta 0:00:01\r\u001b[K     |█████████▍                      | 51 kB 19.3 MB/s eta 0:00:01\r\u001b[K     |███████████▎                    | 61 kB 22.2 MB/s eta 0:00:01\r\u001b[K     |█████████████▏                  | 71 kB 21.8 MB/s eta 0:00:01\r\u001b[K     |███████████████                 | 81 kB 23.8 MB/s eta 0:00:01\r\u001b[K     |█████████████████               | 92 kB 25.8 MB/s eta 0:00:01\r\u001b[K     |██████████████████▉             | 102 kB 26.6 MB/s eta 0:00:01\r\u001b[K     |████████████████████▊           | 112 kB 26.6 MB/s eta 0:00:01\r\u001b[K     |██████████████████████▋         | 122 kB 26.6 MB/s eta 0:00:01\r\u001b[K     |████████████████████████▍       | 133 kB 26.6 MB/s eta 0:00:01\r\u001b[K     |██████████████████████████▎     | 143 kB 26.6 MB/s eta 0:00:01\r\u001b[K     |████████████████████████████▏   | 153 kB 26.6 MB/s eta 0:00:01\r\u001b[K     |██████████████████████████████  | 163 kB 26.6 MB/s eta 0:00:01\r\u001b[K     |████████████████████████████████| 174 kB 26.6 MB/s eta 0:00:01\r\u001b[K     |████████████████████████████████| 174 kB 26.6 MB/s \n",
            "\u001b[?25hBuilding wheels for collected packages: jamspell\n",
            "  Building wheel for jamspell (setup.py) ... \u001b[?25l\u001b[?25hdone\n",
            "  Created wheel for jamspell: filename=jamspell-0.0.12-cp37-cp37m-linux_x86_64.whl size=1347681 sha256=91ebc94a313e4e709df2377ba9162a809454067883f33f9911dcb51f2ffde346\n",
            "  Stored in directory: /root/.cache/pip/wheels/68/df/9c/9b335e69aa0f28e7f508ec0ebefadcc703f168beb52ae7ebe7\n",
            "Successfully built jamspell\n",
            "Installing collected packages: jamspell\n",
            "Successfully installed jamspell-0.0.12\n"
          ]
        }
      ]
    },
    {
      "cell_type": "code",
      "source": [
        "!wget https://github.com/bakwc/JamSpell-models/raw/master/en.tar.gz"
      ],
      "metadata": {
        "colab": {
          "base_uri": "https://localhost:8080/"
        },
        "id": "6aXPz9_2cHJY",
        "outputId": "19d3a6b3-25c9-4a63-dc87-e3be93828046"
      },
      "execution_count": 14,
      "outputs": [
        {
          "output_type": "stream",
          "name": "stdout",
          "text": [
            "--2022-06-04 15:58:46--  https://github.com/bakwc/JamSpell-models/raw/master/en.tar.gz\n",
            "Resolving github.com (github.com)... 140.82.113.4\n",
            "Connecting to github.com (github.com)|140.82.113.4|:443... connected.\n",
            "HTTP request sent, awaiting response... 302 Found\n",
            "Location: https://raw.githubusercontent.com/bakwc/JamSpell-models/master/en.tar.gz [following]\n",
            "--2022-06-04 15:58:46--  https://raw.githubusercontent.com/bakwc/JamSpell-models/master/en.tar.gz\n",
            "Resolving raw.githubusercontent.com (raw.githubusercontent.com)... 185.199.108.133, 185.199.110.133, 185.199.109.133, ...\n",
            "Connecting to raw.githubusercontent.com (raw.githubusercontent.com)|185.199.108.133|:443... connected.\n",
            "HTTP request sent, awaiting response... 200 OK\n",
            "Length: 36611828 (35M) [application/octet-stream]\n",
            "Saving to: ‘en.tar.gz’\n",
            "\n",
            "en.tar.gz           100%[===================>]  34.92M  --.-KB/s    in 0.1s    \n",
            "\n",
            "2022-06-04 15:58:46 (328 MB/s) - ‘en.tar.gz’ saved [36611828/36611828]\n",
            "\n"
          ]
        }
      ]
    },
    {
      "cell_type": "code",
      "source": [
        "!tar -xvf en.tar.gz"
      ],
      "metadata": {
        "colab": {
          "base_uri": "https://localhost:8080/"
        },
        "id": "Vl07h-0bcLAR",
        "outputId": "d44f73f8-60dd-4632-8db9-9daa09d41e0c"
      },
      "execution_count": 15,
      "outputs": [
        {
          "output_type": "stream",
          "name": "stdout",
          "text": [
            "en.bin\n"
          ]
        }
      ]
    },
    {
      "cell_type": "code",
      "source": [
        "#import library\n",
        "import jamspell\n",
        "\n",
        "spl = jamspell.TSpellCorrector()\n",
        "assert spl.LoadLangModel('en.bin')"
      ],
      "metadata": {
        "id": "Z5dqzOQ_cPh4"
      },
      "execution_count": 18,
      "outputs": []
    },
    {
      "cell_type": "code",
      "source": [
        "#for sentence\n",
        "print(spl.FixFragment(\"We went on a tour of the hose and gerounds, The tour inclueded a vist to the Sciece Musum\"))\n",
        "print(spl.FixFragment(\"Sumetimes, loove is like a toaur. You stop in maany placees, but there is allways one that is your faaevorite\"))\n",
        "print(spl.FixFragment(\"She had misread a datte in the Tour Book\"))\n",
        "print(spl.FixFragment(\"Inncluded in the tour is an excuersion to the Greand Canyon\"))\n",
        "print(spl.FixFragment(\"The highlieght of our tour wase seing the palaace\"))\n",
        "print(spl.FixFragment(\"He found the regours of the tour too demaendings, He has gune on a wallking tour\"))\n",
        "print(spl.FixFragment(\"My brther has just left Sydney for a tour of the woorld\"))\n",
        "print(spl.FixFragment(\"Sightseing is bast done eiither by tour bus or by biicycles\"))\n"
      ],
      "metadata": {
        "colab": {
          "base_uri": "https://localhost:8080/"
        },
        "id": "3I9ZrOgmcU-9",
        "outputId": "1995d9cf-afd3-457b-8768-ccc6175d1b18"
      },
      "execution_count": 22,
      "outputs": [
        {
          "output_type": "stream",
          "name": "stdout",
          "text": [
            "We went on a tour of the house and grounds, The tour included a visit to the Science Museum\n",
            "Sometimes, love is like a tour. You stop in many places, but there is always one that is your favorite\n",
            "She had misread a date in the Tour Book\n",
            "Included in the tour is an excursion to the Grand Canyon\n",
            "The highlight of our tour was being the palace\n",
            "He found the rigours of the tour too demanding, He has gone on a walking tour\n",
            "My brother has just left Sydney for a tour of the world\n",
            "Sightseeing is best done either by tour bus or by bicycles\n"
          ]
        }
      ]
    },
    {
      "cell_type": "markdown",
      "source": [
        "## **Spelling Correction For Sentence Using TextBlob**"
      ],
      "metadata": {
        "id": "nPeYtbKhqBye"
      }
    },
    {
      "cell_type": "code",
      "source": [
        "import pandas as pd\n",
        "from textblob import TextBlob\n"
      ],
      "metadata": {
        "id": "zNvxO4H3lE77"
      },
      "execution_count": 48,
      "outputs": []
    },
    {
      "cell_type": "code",
      "source": [
        "#For a Paragraph\n",
        "Sack = (['Data Science is primiarily used to make decisons and predicitions makieng use of predeictive causail analyitics, prescreptive analyteics (predictieve plus decision science) and machine learning.On the other hand, Datae Scentist not only doess the explaoratory analysiess to disscover insigts from it, but also uses varioeus advanced macheine learnning algorithims to identeify the occrrence of a particaular evenet in the future.',\n",
        "         'A Data Scientist wil look at the data from maany angleis, sumetimes angles not known earlieer.There are several definions available on Data Scients. In simple words, a Data Scientist is one who praactices the art of Data Science.',\n",
        "'The term “Data Scientist” has been coiened after considerig the fact that a Data Scientist drawes a lot of information from the sciientific fieilds and applictions wheather it is statistics or matheimatics.', \n",
        "'Therefore, a Data Scienteist should be highlly skileed and mottivated to solve the most compllex probalems.',\n",
        "'A comman misstake made in Data Science projects is russhing into data colection and analyseis, witout undersanding the requierements or even fraeming the busines problem properlly.',\n",
        " 'Therfore, itt is very imprortant for yoou to folow all the phases throughout the lifecycle of Data Science to ensure the smooth functioning of the project.'])"
      ],
      "metadata": {
        "id": "didm1m5Yi2gE"
      },
      "execution_count": 71,
      "outputs": []
    },
    {
      "cell_type": "code",
      "source": [
        "df =pd.DataFrame(Sack)\n",
        "df['uncorrected'] = df[0]\n",
        "df"
      ],
      "metadata": {
        "colab": {
          "base_uri": "https://localhost:8080/",
          "height": 237
        },
        "id": "PWO_UlqzkZCI",
        "outputId": "7389f519-8f13-4373-92b8-3074bef38728"
      },
      "execution_count": 72,
      "outputs": [
        {
          "output_type": "execute_result",
          "data": {
            "text/plain": [
              "                                                   0  \\\n",
              "0  Data Science is primiarily used to make deciso...   \n",
              "1  A Data Scientist wil look at the data from maa...   \n",
              "2  The term “Data Scientist” has been coiened aft...   \n",
              "3  Therefore, a Data Scienteist should be highlly...   \n",
              "4  A comman misstake made in Data Science project...   \n",
              "5  Therfore, itt is very imprortant for yoou to f...   \n",
              "\n",
              "                                         uncorrected  \n",
              "0  Data Science is primiarily used to make deciso...  \n",
              "1  A Data Scientist wil look at the data from maa...  \n",
              "2  The term “Data Scientist” has been coiened aft...  \n",
              "3  Therefore, a Data Scienteist should be highlly...  \n",
              "4  A comman misstake made in Data Science project...  \n",
              "5  Therfore, itt is very imprortant for yoou to f...  "
            ],
            "text/html": [
              "\n",
              "  <div id=\"df-fdfe689e-09c7-4ccc-a50b-24d86fbf5400\">\n",
              "    <div class=\"colab-df-container\">\n",
              "      <div>\n",
              "<style scoped>\n",
              "    .dataframe tbody tr th:only-of-type {\n",
              "        vertical-align: middle;\n",
              "    }\n",
              "\n",
              "    .dataframe tbody tr th {\n",
              "        vertical-align: top;\n",
              "    }\n",
              "\n",
              "    .dataframe thead th {\n",
              "        text-align: right;\n",
              "    }\n",
              "</style>\n",
              "<table border=\"1\" class=\"dataframe\">\n",
              "  <thead>\n",
              "    <tr style=\"text-align: right;\">\n",
              "      <th></th>\n",
              "      <th>0</th>\n",
              "      <th>uncorrected</th>\n",
              "    </tr>\n",
              "  </thead>\n",
              "  <tbody>\n",
              "    <tr>\n",
              "      <th>0</th>\n",
              "      <td>Data Science is primiarily used to make deciso...</td>\n",
              "      <td>Data Science is primiarily used to make deciso...</td>\n",
              "    </tr>\n",
              "    <tr>\n",
              "      <th>1</th>\n",
              "      <td>A Data Scientist wil look at the data from maa...</td>\n",
              "      <td>A Data Scientist wil look at the data from maa...</td>\n",
              "    </tr>\n",
              "    <tr>\n",
              "      <th>2</th>\n",
              "      <td>The term “Data Scientist” has been coiened aft...</td>\n",
              "      <td>The term “Data Scientist” has been coiened aft...</td>\n",
              "    </tr>\n",
              "    <tr>\n",
              "      <th>3</th>\n",
              "      <td>Therefore, a Data Scienteist should be highlly...</td>\n",
              "      <td>Therefore, a Data Scienteist should be highlly...</td>\n",
              "    </tr>\n",
              "    <tr>\n",
              "      <th>4</th>\n",
              "      <td>A comman misstake made in Data Science project...</td>\n",
              "      <td>A comman misstake made in Data Science project...</td>\n",
              "    </tr>\n",
              "    <tr>\n",
              "      <th>5</th>\n",
              "      <td>Therfore, itt is very imprortant for yoou to f...</td>\n",
              "      <td>Therfore, itt is very imprortant for yoou to f...</td>\n",
              "    </tr>\n",
              "  </tbody>\n",
              "</table>\n",
              "</div>\n",
              "      <button class=\"colab-df-convert\" onclick=\"convertToInteractive('df-fdfe689e-09c7-4ccc-a50b-24d86fbf5400')\"\n",
              "              title=\"Convert this dataframe to an interactive table.\"\n",
              "              style=\"display:none;\">\n",
              "        \n",
              "  <svg xmlns=\"http://www.w3.org/2000/svg\" height=\"24px\"viewBox=\"0 0 24 24\"\n",
              "       width=\"24px\">\n",
              "    <path d=\"M0 0h24v24H0V0z\" fill=\"none\"/>\n",
              "    <path d=\"M18.56 5.44l.94 2.06.94-2.06 2.06-.94-2.06-.94-.94-2.06-.94 2.06-2.06.94zm-11 1L8.5 8.5l.94-2.06 2.06-.94-2.06-.94L8.5 2.5l-.94 2.06-2.06.94zm10 10l.94 2.06.94-2.06 2.06-.94-2.06-.94-.94-2.06-.94 2.06-2.06.94z\"/><path d=\"M17.41 7.96l-1.37-1.37c-.4-.4-.92-.59-1.43-.59-.52 0-1.04.2-1.43.59L10.3 9.45l-7.72 7.72c-.78.78-.78 2.05 0 2.83L4 21.41c.39.39.9.59 1.41.59.51 0 1.02-.2 1.41-.59l7.78-7.78 2.81-2.81c.8-.78.8-2.07 0-2.86zM5.41 20L4 18.59l7.72-7.72 1.47 1.35L5.41 20z\"/>\n",
              "  </svg>\n",
              "      </button>\n",
              "      \n",
              "  <style>\n",
              "    .colab-df-container {\n",
              "      display:flex;\n",
              "      flex-wrap:wrap;\n",
              "      gap: 12px;\n",
              "    }\n",
              "\n",
              "    .colab-df-convert {\n",
              "      background-color: #E8F0FE;\n",
              "      border: none;\n",
              "      border-radius: 50%;\n",
              "      cursor: pointer;\n",
              "      display: none;\n",
              "      fill: #1967D2;\n",
              "      height: 32px;\n",
              "      padding: 0 0 0 0;\n",
              "      width: 32px;\n",
              "    }\n",
              "\n",
              "    .colab-df-convert:hover {\n",
              "      background-color: #E2EBFA;\n",
              "      box-shadow: 0px 1px 2px rgba(60, 64, 67, 0.3), 0px 1px 3px 1px rgba(60, 64, 67, 0.15);\n",
              "      fill: #174EA6;\n",
              "    }\n",
              "\n",
              "    [theme=dark] .colab-df-convert {\n",
              "      background-color: #3B4455;\n",
              "      fill: #D2E3FC;\n",
              "    }\n",
              "\n",
              "    [theme=dark] .colab-df-convert:hover {\n",
              "      background-color: #434B5C;\n",
              "      box-shadow: 0px 1px 3px 1px rgba(0, 0, 0, 0.15);\n",
              "      filter: drop-shadow(0px 1px 2px rgba(0, 0, 0, 0.3));\n",
              "      fill: #FFFFFF;\n",
              "    }\n",
              "  </style>\n",
              "\n",
              "      <script>\n",
              "        const buttonEl =\n",
              "          document.querySelector('#df-fdfe689e-09c7-4ccc-a50b-24d86fbf5400 button.colab-df-convert');\n",
              "        buttonEl.style.display =\n",
              "          google.colab.kernel.accessAllowed ? 'block' : 'none';\n",
              "\n",
              "        async function convertToInteractive(key) {\n",
              "          const element = document.querySelector('#df-fdfe689e-09c7-4ccc-a50b-24d86fbf5400');\n",
              "          const dataTable =\n",
              "            await google.colab.kernel.invokeFunction('convertToInteractive',\n",
              "                                                     [key], {});\n",
              "          if (!dataTable) return;\n",
              "\n",
              "          const docLinkHtml = 'Like what you see? Visit the ' +\n",
              "            '<a target=\"_blank\" href=https://colab.research.google.com/notebooks/data_table.ipynb>data table notebook</a>'\n",
              "            + ' to learn more about interactive tables.';\n",
              "          element.innerHTML = '';\n",
              "          dataTable['output_type'] = 'display_data';\n",
              "          await google.colab.output.renderOutput(dataTable, element);\n",
              "          const docLink = document.createElement('div');\n",
              "          docLink.innerHTML = docLinkHtml;\n",
              "          element.appendChild(docLink);\n",
              "        }\n",
              "      </script>\n",
              "    </div>\n",
              "  </div>\n",
              "  "
            ]
          },
          "metadata": {},
          "execution_count": 72
        }
      ]
    },
    {
      "cell_type": "code",
      "source": [
        "def corrected(a):\n",
        "  WRD = TextBlob(a)\n",
        "  return \"\".join(WRD.correct())"
      ],
      "metadata": {
        "id": "3u4PVys6mBHM"
      },
      "execution_count": 73,
      "outputs": []
    },
    {
      "cell_type": "code",
      "source": [
        "df['corrected']= df['uncorrected'].apply(corrected)"
      ],
      "metadata": {
        "id": "ZCRFvMqWoBi1"
      },
      "execution_count": 74,
      "outputs": []
    },
    {
      "cell_type": "code",
      "source": [
        "df.head(20)"
      ],
      "metadata": {
        "colab": {
          "base_uri": "https://localhost:8080/",
          "height": 237
        },
        "id": "YVIvBOyDoej1",
        "outputId": "9726a1fa-088f-4bbc-dafb-b2d430dd4a72"
      },
      "execution_count": 75,
      "outputs": [
        {
          "output_type": "execute_result",
          "data": {
            "text/plain": [
              "                                                   0  \\\n",
              "0  Data Science is primiarily used to make deciso...   \n",
              "1  A Data Scientist wil look at the data from maa...   \n",
              "2  The term “Data Scientist” has been coiened aft...   \n",
              "3  Therefore, a Data Scienteist should be highlly...   \n",
              "4  A comman misstake made in Data Science project...   \n",
              "5  Therfore, itt is very imprortant for yoou to f...   \n",
              "\n",
              "                                         uncorrected  \\\n",
              "0  Data Science is primiarily used to make deciso...   \n",
              "1  A Data Scientist wil look at the data from maa...   \n",
              "2  The term “Data Scientist” has been coiened aft...   \n",
              "3  Therefore, a Data Scienteist should be highlly...   \n",
              "4  A comman misstake made in Data Science project...   \n",
              "5  Therfore, itt is very imprortant for yoou to f...   \n",
              "\n",
              "                                           corrected  \n",
              "0  Data Science is primarily used to make decisio...  \n",
              "1  A Data Scientist will look at the data from ma...  \n",
              "2  The term “Data Scientist” has been opened afte...  \n",
              "3  Therefore, a Data Scientist should be highly s...  \n",
              "4  A common mistake made in Data Science projects...  \n",
              "5  Therefore, it is very important for you to fol...  "
            ],
            "text/html": [
              "\n",
              "  <div id=\"df-33656832-d31c-4f0e-b7bb-8e7ede369dbf\">\n",
              "    <div class=\"colab-df-container\">\n",
              "      <div>\n",
              "<style scoped>\n",
              "    .dataframe tbody tr th:only-of-type {\n",
              "        vertical-align: middle;\n",
              "    }\n",
              "\n",
              "    .dataframe tbody tr th {\n",
              "        vertical-align: top;\n",
              "    }\n",
              "\n",
              "    .dataframe thead th {\n",
              "        text-align: right;\n",
              "    }\n",
              "</style>\n",
              "<table border=\"1\" class=\"dataframe\">\n",
              "  <thead>\n",
              "    <tr style=\"text-align: right;\">\n",
              "      <th></th>\n",
              "      <th>0</th>\n",
              "      <th>uncorrected</th>\n",
              "      <th>corrected</th>\n",
              "    </tr>\n",
              "  </thead>\n",
              "  <tbody>\n",
              "    <tr>\n",
              "      <th>0</th>\n",
              "      <td>Data Science is primiarily used to make deciso...</td>\n",
              "      <td>Data Science is primiarily used to make deciso...</td>\n",
              "      <td>Data Science is primarily used to make decisio...</td>\n",
              "    </tr>\n",
              "    <tr>\n",
              "      <th>1</th>\n",
              "      <td>A Data Scientist wil look at the data from maa...</td>\n",
              "      <td>A Data Scientist wil look at the data from maa...</td>\n",
              "      <td>A Data Scientist will look at the data from ma...</td>\n",
              "    </tr>\n",
              "    <tr>\n",
              "      <th>2</th>\n",
              "      <td>The term “Data Scientist” has been coiened aft...</td>\n",
              "      <td>The term “Data Scientist” has been coiened aft...</td>\n",
              "      <td>The term “Data Scientist” has been opened afte...</td>\n",
              "    </tr>\n",
              "    <tr>\n",
              "      <th>3</th>\n",
              "      <td>Therefore, a Data Scienteist should be highlly...</td>\n",
              "      <td>Therefore, a Data Scienteist should be highlly...</td>\n",
              "      <td>Therefore, a Data Scientist should be highly s...</td>\n",
              "    </tr>\n",
              "    <tr>\n",
              "      <th>4</th>\n",
              "      <td>A comman misstake made in Data Science project...</td>\n",
              "      <td>A comman misstake made in Data Science project...</td>\n",
              "      <td>A common mistake made in Data Science projects...</td>\n",
              "    </tr>\n",
              "    <tr>\n",
              "      <th>5</th>\n",
              "      <td>Therfore, itt is very imprortant for yoou to f...</td>\n",
              "      <td>Therfore, itt is very imprortant for yoou to f...</td>\n",
              "      <td>Therefore, it is very important for you to fol...</td>\n",
              "    </tr>\n",
              "  </tbody>\n",
              "</table>\n",
              "</div>\n",
              "      <button class=\"colab-df-convert\" onclick=\"convertToInteractive('df-33656832-d31c-4f0e-b7bb-8e7ede369dbf')\"\n",
              "              title=\"Convert this dataframe to an interactive table.\"\n",
              "              style=\"display:none;\">\n",
              "        \n",
              "  <svg xmlns=\"http://www.w3.org/2000/svg\" height=\"24px\"viewBox=\"0 0 24 24\"\n",
              "       width=\"24px\">\n",
              "    <path d=\"M0 0h24v24H0V0z\" fill=\"none\"/>\n",
              "    <path d=\"M18.56 5.44l.94 2.06.94-2.06 2.06-.94-2.06-.94-.94-2.06-.94 2.06-2.06.94zm-11 1L8.5 8.5l.94-2.06 2.06-.94-2.06-.94L8.5 2.5l-.94 2.06-2.06.94zm10 10l.94 2.06.94-2.06 2.06-.94-2.06-.94-.94-2.06-.94 2.06-2.06.94z\"/><path d=\"M17.41 7.96l-1.37-1.37c-.4-.4-.92-.59-1.43-.59-.52 0-1.04.2-1.43.59L10.3 9.45l-7.72 7.72c-.78.78-.78 2.05 0 2.83L4 21.41c.39.39.9.59 1.41.59.51 0 1.02-.2 1.41-.59l7.78-7.78 2.81-2.81c.8-.78.8-2.07 0-2.86zM5.41 20L4 18.59l7.72-7.72 1.47 1.35L5.41 20z\"/>\n",
              "  </svg>\n",
              "      </button>\n",
              "      \n",
              "  <style>\n",
              "    .colab-df-container {\n",
              "      display:flex;\n",
              "      flex-wrap:wrap;\n",
              "      gap: 12px;\n",
              "    }\n",
              "\n",
              "    .colab-df-convert {\n",
              "      background-color: #E8F0FE;\n",
              "      border: none;\n",
              "      border-radius: 50%;\n",
              "      cursor: pointer;\n",
              "      display: none;\n",
              "      fill: #1967D2;\n",
              "      height: 32px;\n",
              "      padding: 0 0 0 0;\n",
              "      width: 32px;\n",
              "    }\n",
              "\n",
              "    .colab-df-convert:hover {\n",
              "      background-color: #E2EBFA;\n",
              "      box-shadow: 0px 1px 2px rgba(60, 64, 67, 0.3), 0px 1px 3px 1px rgba(60, 64, 67, 0.15);\n",
              "      fill: #174EA6;\n",
              "    }\n",
              "\n",
              "    [theme=dark] .colab-df-convert {\n",
              "      background-color: #3B4455;\n",
              "      fill: #D2E3FC;\n",
              "    }\n",
              "\n",
              "    [theme=dark] .colab-df-convert:hover {\n",
              "      background-color: #434B5C;\n",
              "      box-shadow: 0px 1px 3px 1px rgba(0, 0, 0, 0.15);\n",
              "      filter: drop-shadow(0px 1px 2px rgba(0, 0, 0, 0.3));\n",
              "      fill: #FFFFFF;\n",
              "    }\n",
              "  </style>\n",
              "\n",
              "      <script>\n",
              "        const buttonEl =\n",
              "          document.querySelector('#df-33656832-d31c-4f0e-b7bb-8e7ede369dbf button.colab-df-convert');\n",
              "        buttonEl.style.display =\n",
              "          google.colab.kernel.accessAllowed ? 'block' : 'none';\n",
              "\n",
              "        async function convertToInteractive(key) {\n",
              "          const element = document.querySelector('#df-33656832-d31c-4f0e-b7bb-8e7ede369dbf');\n",
              "          const dataTable =\n",
              "            await google.colab.kernel.invokeFunction('convertToInteractive',\n",
              "                                                     [key], {});\n",
              "          if (!dataTable) return;\n",
              "\n",
              "          const docLinkHtml = 'Like what you see? Visit the ' +\n",
              "            '<a target=\"_blank\" href=https://colab.research.google.com/notebooks/data_table.ipynb>data table notebook</a>'\n",
              "            + ' to learn more about interactive tables.';\n",
              "          element.innerHTML = '';\n",
              "          dataTable['output_type'] = 'display_data';\n",
              "          await google.colab.output.renderOutput(dataTable, element);\n",
              "          const docLink = document.createElement('div');\n",
              "          docLink.innerHTML = docLinkHtml;\n",
              "          element.appendChild(docLink);\n",
              "        }\n",
              "      </script>\n",
              "    </div>\n",
              "  </div>\n",
              "  "
            ]
          },
          "metadata": {},
          "execution_count": 75
        }
      ]
    }
  ]
}